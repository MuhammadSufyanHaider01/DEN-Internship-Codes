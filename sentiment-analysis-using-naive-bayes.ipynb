{
 "cells": [
  {
   "cell_type": "markdown",
   "id": "6c1f7e71",
   "metadata": {
    "id": "WspHhyP757H4",
    "papermill": {
     "duration": 0.012034,
     "end_time": "2024-09-12T08:29:22.665679",
     "exception": false,
     "start_time": "2024-09-12T08:29:22.653645",
     "status": "completed"
    },
    "tags": []
   },
   "source": [
    "# Sentiment Analysis on Kaggle sentiment analysis dataset\n",
    "sentiment analysis tasks on kaggle sentiment analysis dataset using simple machine learning model: Naive bayes\n"
   ]
  },
  {
   "cell_type": "markdown",
   "id": "d1b2f438",
   "metadata": {
    "id": "LgtBS7we9zxF",
    "papermill": {
     "duration": 0.011781,
     "end_time": "2024-09-12T08:29:22.690157",
     "exception": false,
     "start_time": "2024-09-12T08:29:22.678376",
     "status": "completed"
    },
    "tags": []
   },
   "source": [
    "## Including needed libraries"
   ]
  },
  {
   "cell_type": "code",
   "execution_count": 1,
   "id": "a2081a3a",
   "metadata": {
    "execution": {
     "iopub.execute_input": "2024-09-12T08:29:22.717910Z",
     "iopub.status.busy": "2024-09-12T08:29:22.717371Z",
     "iopub.status.idle": "2024-09-12T08:29:26.318912Z",
     "shell.execute_reply": "2024-09-12T08:29:26.317439Z"
    },
    "executionInfo": {
     "elapsed": 1570,
     "status": "ok",
     "timestamp": 1724856358210,
     "user": {
      "displayName": "Hanin Sherif",
      "userId": "01538783181169899039"
     },
     "user_tz": -180
    },
    "id": "V56eXYTz3Wi6",
    "papermill": {
     "duration": 3.618806,
     "end_time": "2024-09-12T08:29:26.321895",
     "exception": false,
     "start_time": "2024-09-12T08:29:22.703089",
     "status": "completed"
    },
    "tags": []
   },
   "outputs": [],
   "source": [
    "# --------------- MAIN LIBRARIES ------------------\n",
    "\n",
    "import pandas as pd\n",
    "import numpy as np\n",
    "import nltk\n",
    "from nltk.corpus import stopwords\n",
    "from sklearn.naive_bayes import MultinomialNB\n",
    "from sklearn.feature_extraction.text import TfidfVectorizer\n",
    "from sklearn.metrics import classification_report, accuracy_score\n",
    "\n",
    "# --------------- HELPING LIBRARIES ----------------\n",
    "import os\n",
    "import matplotlib.pyplot as plt\n",
    "import seaborn as sns\n",
    "from sklearn.preprocessing import LabelEncoder"
   ]
  },
  {
   "cell_type": "markdown",
   "id": "a85093d4",
   "metadata": {
    "id": "vX8kWFB-_ou8",
    "papermill": {
     "duration": 0.010704,
     "end_time": "2024-09-12T08:29:26.344977",
     "exception": false,
     "start_time": "2024-09-12T08:29:26.334273",
     "status": "completed"
    },
    "tags": []
   },
   "source": [
    "## Uploading Data"
   ]
  },
  {
   "cell_type": "code",
   "execution_count": 2,
   "id": "684f0510",
   "metadata": {
    "execution": {
     "iopub.execute_input": "2024-09-12T08:29:26.369515Z",
     "iopub.status.busy": "2024-09-12T08:29:26.368944Z",
     "iopub.status.idle": "2024-09-12T08:29:26.386746Z",
     "shell.execute_reply": "2024-09-12T08:29:26.385517Z"
    },
    "executionInfo": {
     "elapsed": 582,
     "status": "ok",
     "timestamp": 1724850519923,
     "user": {
      "displayName": "Hanin Sherif",
      "userId": "01538783181169899039"
     },
     "user_tz": -180
    },
    "id": "K9dAjDTZBSKW",
    "outputId": "c55021fc-7253-40cd-954c-5deb1f538816",
    "papermill": {
     "duration": 0.03308,
     "end_time": "2024-09-12T08:29:26.389376",
     "exception": false,
     "start_time": "2024-09-12T08:29:26.356296",
     "status": "completed"
    },
    "tags": []
   },
   "outputs": [
    {
     "name": "stdout",
     "output_type": "stream",
     "text": [
      "True\n",
      "True\n"
     ]
    }
   ],
   "source": [
    "train_dataset = '/kaggle/input/sentiment-analysis-dataset/train.csv'\n",
    "test_dataset = '/kaggle/input/sentiment-analysis-dataset/test.csv'\n",
    "\n",
    "# Check if the path exists\n",
    "print (os.path.exists(train_dataset))\n",
    "print (os.path.exists(test_dataset))"
   ]
  },
  {
   "cell_type": "code",
   "execution_count": 3,
   "id": "a2f9ec67",
   "metadata": {
    "execution": {
     "iopub.execute_input": "2024-09-12T08:29:26.413850Z",
     "iopub.status.busy": "2024-09-12T08:29:26.413393Z",
     "iopub.status.idle": "2024-09-12T08:29:26.705916Z",
     "shell.execute_reply": "2024-09-12T08:29:26.704351Z"
    },
    "executionInfo": {
     "elapsed": 1758,
     "status": "ok",
     "timestamp": 1724850521676,
     "user": {
      "displayName": "Hanin Sherif",
      "userId": "01538783181169899039"
     },
     "user_tz": -180
    },
    "id": "hW9BRdvvB5-i",
    "papermill": {
     "duration": 0.30816,
     "end_time": "2024-09-12T08:29:26.708878",
     "exception": false,
     "start_time": "2024-09-12T08:29:26.400718",
     "status": "completed"
    },
    "tags": []
   },
   "outputs": [],
   "source": [
    "# Load the CSV file into a DataFrame\n",
    "train_df = pd.read_csv(train_dataset, encoding='ISO-8859-1')\n",
    "test_df = pd.read_csv(test_dataset, encoding='ISO-8859-1')\n"
   ]
  },
  {
   "cell_type": "code",
   "execution_count": 4,
   "id": "8f95f18b",
   "metadata": {
    "execution": {
     "iopub.execute_input": "2024-09-12T08:29:26.734650Z",
     "iopub.status.busy": "2024-09-12T08:29:26.734204Z",
     "iopub.status.idle": "2024-09-12T08:29:26.764771Z",
     "shell.execute_reply": "2024-09-12T08:29:26.763544Z"
    },
    "executionInfo": {
     "elapsed": 12,
     "status": "ok",
     "timestamp": 1724850521676,
     "user": {
      "displayName": "Hanin Sherif",
      "userId": "01538783181169899039"
     },
     "user_tz": -180
    },
    "id": "Cv2hsR9aDAkQ",
    "outputId": "1cafdebb-17c0-4688-fdd2-bbd3281e6c0b",
    "papermill": {
     "duration": 0.047279,
     "end_time": "2024-09-12T08:29:26.767652",
     "exception": false,
     "start_time": "2024-09-12T08:29:26.720373",
     "status": "completed"
    },
    "tags": []
   },
   "outputs": [
    {
     "data": {
      "text/html": [
       "<div>\n",
       "<style scoped>\n",
       "    .dataframe tbody tr th:only-of-type {\n",
       "        vertical-align: middle;\n",
       "    }\n",
       "\n",
       "    .dataframe tbody tr th {\n",
       "        vertical-align: top;\n",
       "    }\n",
       "\n",
       "    .dataframe thead th {\n",
       "        text-align: right;\n",
       "    }\n",
       "</style>\n",
       "<table border=\"1\" class=\"dataframe\">\n",
       "  <thead>\n",
       "    <tr style=\"text-align: right;\">\n",
       "      <th></th>\n",
       "      <th>textID</th>\n",
       "      <th>text</th>\n",
       "      <th>selected_text</th>\n",
       "      <th>sentiment</th>\n",
       "      <th>Time of Tweet</th>\n",
       "      <th>Age of User</th>\n",
       "      <th>Country</th>\n",
       "      <th>Population -2020</th>\n",
       "      <th>Land Area (Km²)</th>\n",
       "      <th>Density (P/Km²)</th>\n",
       "    </tr>\n",
       "  </thead>\n",
       "  <tbody>\n",
       "    <tr>\n",
       "      <th>0</th>\n",
       "      <td>cb774db0d1</td>\n",
       "      <td>I`d have responded, if I were going</td>\n",
       "      <td>I`d have responded, if I were going</td>\n",
       "      <td>neutral</td>\n",
       "      <td>morning</td>\n",
       "      <td>0-20</td>\n",
       "      <td>Afghanistan</td>\n",
       "      <td>38928346</td>\n",
       "      <td>652860.0</td>\n",
       "      <td>60</td>\n",
       "    </tr>\n",
       "    <tr>\n",
       "      <th>1</th>\n",
       "      <td>549e992a42</td>\n",
       "      <td>Sooo SAD I will miss you here in San Diego!!!</td>\n",
       "      <td>Sooo SAD</td>\n",
       "      <td>negative</td>\n",
       "      <td>noon</td>\n",
       "      <td>21-30</td>\n",
       "      <td>Albania</td>\n",
       "      <td>2877797</td>\n",
       "      <td>27400.0</td>\n",
       "      <td>105</td>\n",
       "    </tr>\n",
       "    <tr>\n",
       "      <th>2</th>\n",
       "      <td>088c60f138</td>\n",
       "      <td>my boss is bullying me...</td>\n",
       "      <td>bullying me</td>\n",
       "      <td>negative</td>\n",
       "      <td>night</td>\n",
       "      <td>31-45</td>\n",
       "      <td>Algeria</td>\n",
       "      <td>43851044</td>\n",
       "      <td>2381740.0</td>\n",
       "      <td>18</td>\n",
       "    </tr>\n",
       "    <tr>\n",
       "      <th>3</th>\n",
       "      <td>9642c003ef</td>\n",
       "      <td>what interview! leave me alone</td>\n",
       "      <td>leave me alone</td>\n",
       "      <td>negative</td>\n",
       "      <td>morning</td>\n",
       "      <td>46-60</td>\n",
       "      <td>Andorra</td>\n",
       "      <td>77265</td>\n",
       "      <td>470.0</td>\n",
       "      <td>164</td>\n",
       "    </tr>\n",
       "    <tr>\n",
       "      <th>4</th>\n",
       "      <td>358bd9e861</td>\n",
       "      <td>Sons of ****, why couldn`t they put them on t...</td>\n",
       "      <td>Sons of ****,</td>\n",
       "      <td>negative</td>\n",
       "      <td>noon</td>\n",
       "      <td>60-70</td>\n",
       "      <td>Angola</td>\n",
       "      <td>32866272</td>\n",
       "      <td>1246700.0</td>\n",
       "      <td>26</td>\n",
       "    </tr>\n",
       "  </tbody>\n",
       "</table>\n",
       "</div>"
      ],
      "text/plain": [
       "       textID                                               text  \\\n",
       "0  cb774db0d1                I`d have responded, if I were going   \n",
       "1  549e992a42      Sooo SAD I will miss you here in San Diego!!!   \n",
       "2  088c60f138                          my boss is bullying me...   \n",
       "3  9642c003ef                     what interview! leave me alone   \n",
       "4  358bd9e861   Sons of ****, why couldn`t they put them on t...   \n",
       "\n",
       "                         selected_text sentiment Time of Tweet Age of User  \\\n",
       "0  I`d have responded, if I were going   neutral       morning        0-20   \n",
       "1                             Sooo SAD  negative          noon       21-30   \n",
       "2                          bullying me  negative         night       31-45   \n",
       "3                       leave me alone  negative       morning       46-60   \n",
       "4                        Sons of ****,  negative          noon       60-70   \n",
       "\n",
       "       Country  Population -2020  Land Area (Km²)  Density (P/Km²)  \n",
       "0  Afghanistan          38928346         652860.0               60  \n",
       "1      Albania           2877797          27400.0              105  \n",
       "2      Algeria          43851044        2381740.0               18  \n",
       "3      Andorra             77265            470.0              164  \n",
       "4       Angola          32866272        1246700.0               26  "
      ]
     },
     "execution_count": 4,
     "metadata": {},
     "output_type": "execute_result"
    }
   ],
   "source": [
    "train_df.head()"
   ]
  },
  {
   "cell_type": "markdown",
   "id": "324158c6",
   "metadata": {
    "id": "QLHgZmS_KaeW",
    "papermill": {
     "duration": 0.011444,
     "end_time": "2024-09-12T08:29:26.791338",
     "exception": false,
     "start_time": "2024-09-12T08:29:26.779894",
     "status": "completed"
    },
    "tags": []
   },
   "source": [
    "## Data Preprocessing"
   ]
  },
  {
   "cell_type": "code",
   "execution_count": 5,
   "id": "45a3e045",
   "metadata": {
    "execution": {
     "iopub.execute_input": "2024-09-12T08:29:26.817530Z",
     "iopub.status.busy": "2024-09-12T08:29:26.817062Z",
     "iopub.status.idle": "2024-09-12T08:29:26.867424Z",
     "shell.execute_reply": "2024-09-12T08:29:26.865613Z"
    },
    "executionInfo": {
     "elapsed": 558,
     "status": "ok",
     "timestamp": 1724850564684,
     "user": {
      "displayName": "Hanin Sherif",
      "userId": "01538783181169899039"
     },
     "user_tz": -180
    },
    "id": "lQTMOPxnWhs7",
    "outputId": "ef953ec9-32d5-4550-d168-317771e0dc08",
    "papermill": {
     "duration": 0.067193,
     "end_time": "2024-09-12T08:29:26.870406",
     "exception": false,
     "start_time": "2024-09-12T08:29:26.803213",
     "status": "completed"
    },
    "tags": []
   },
   "outputs": [
    {
     "name": "stdout",
     "output_type": "stream",
     "text": [
      "<class 'pandas.core.frame.DataFrame'>\n",
      "RangeIndex: 27481 entries, 0 to 27480\n",
      "Data columns (total 10 columns):\n",
      " #   Column            Non-Null Count  Dtype  \n",
      "---  ------            --------------  -----  \n",
      " 0   textID            27481 non-null  object \n",
      " 1   text              27480 non-null  object \n",
      " 2   selected_text     27480 non-null  object \n",
      " 3   sentiment         27481 non-null  object \n",
      " 4   Time of Tweet     27481 non-null  object \n",
      " 5   Age of User       27481 non-null  object \n",
      " 6   Country           27481 non-null  object \n",
      " 7   Population -2020  27481 non-null  int64  \n",
      " 8   Land Area (Km²)   27481 non-null  float64\n",
      " 9   Density (P/Km²)   27481 non-null  int64  \n",
      "dtypes: float64(1), int64(2), object(7)\n",
      "memory usage: 2.1+ MB\n"
     ]
    }
   ],
   "source": [
    "train_df.info()"
   ]
  },
  {
   "cell_type": "code",
   "execution_count": 6,
   "id": "437119e3",
   "metadata": {
    "execution": {
     "iopub.execute_input": "2024-09-12T08:29:26.896925Z",
     "iopub.status.busy": "2024-09-12T08:29:26.896453Z",
     "iopub.status.idle": "2024-09-12T08:29:26.913318Z",
     "shell.execute_reply": "2024-09-12T08:29:26.911823Z"
    },
    "executionInfo": {
     "elapsed": 526,
     "status": "ok",
     "timestamp": 1724850569629,
     "user": {
      "displayName": "Hanin Sherif",
      "userId": "01538783181169899039"
     },
     "user_tz": -180
    },
    "id": "GmpjaoKBWluP",
    "outputId": "b59340aa-c4fe-4921-daf3-45f1ae997ecc",
    "papermill": {
     "duration": 0.033278,
     "end_time": "2024-09-12T08:29:26.916264",
     "exception": false,
     "start_time": "2024-09-12T08:29:26.882986",
     "status": "completed"
    },
    "tags": []
   },
   "outputs": [
    {
     "name": "stdout",
     "output_type": "stream",
     "text": [
      "<class 'pandas.core.frame.DataFrame'>\n",
      "RangeIndex: 4815 entries, 0 to 4814\n",
      "Data columns (total 9 columns):\n",
      " #   Column            Non-Null Count  Dtype  \n",
      "---  ------            --------------  -----  \n",
      " 0   textID            3534 non-null   object \n",
      " 1   text              3534 non-null   object \n",
      " 2   sentiment         3534 non-null   object \n",
      " 3   Time of Tweet     3534 non-null   object \n",
      " 4   Age of User       3534 non-null   object \n",
      " 5   Country           3534 non-null   object \n",
      " 6   Population -2020  3534 non-null   float64\n",
      " 7   Land Area (Km²)   3534 non-null   float64\n",
      " 8   Density (P/Km²)   3534 non-null   float64\n",
      "dtypes: float64(3), object(6)\n",
      "memory usage: 338.7+ KB\n"
     ]
    }
   ],
   "source": [
    "test_df.info()"
   ]
  },
  {
   "cell_type": "markdown",
   "id": "37c224b9",
   "metadata": {
    "id": "U95kjy7kKgIC",
    "papermill": {
     "duration": 0.011454,
     "end_time": "2024-09-12T08:29:26.939776",
     "exception": false,
     "start_time": "2024-09-12T08:29:26.928322",
     "status": "completed"
    },
    "tags": []
   },
   "source": [
    "#### Handling null values"
   ]
  },
  {
   "cell_type": "code",
   "execution_count": 7,
   "id": "f03c3581",
   "metadata": {
    "execution": {
     "iopub.execute_input": "2024-09-12T08:29:26.965518Z",
     "iopub.status.busy": "2024-09-12T08:29:26.965086Z",
     "iopub.status.idle": "2024-09-12T08:29:26.997397Z",
     "shell.execute_reply": "2024-09-12T08:29:26.996114Z"
    },
    "executionInfo": {
     "elapsed": 515,
     "status": "ok",
     "timestamp": 1724850574218,
     "user": {
      "displayName": "Hanin Sherif",
      "userId": "01538783181169899039"
     },
     "user_tz": -180
    },
    "id": "RaWIiyJWKeUd",
    "outputId": "bbcbaf80-0a6c-410d-ce02-696ac99f517e",
    "papermill": {
     "duration": 0.048683,
     "end_time": "2024-09-12T08:29:27.000276",
     "exception": false,
     "start_time": "2024-09-12T08:29:26.951593",
     "status": "completed"
    },
    "tags": []
   },
   "outputs": [
    {
     "data": {
      "text/plain": [
       "textID              0\n",
       "text                1\n",
       "selected_text       1\n",
       "sentiment           0\n",
       "Time of Tweet       0\n",
       "Age of User         0\n",
       "Country             0\n",
       "Population -2020    0\n",
       "Land Area (Km²)     0\n",
       "Density (P/Km²)     0\n",
       "dtype: int64"
      ]
     },
     "execution_count": 7,
     "metadata": {},
     "output_type": "execute_result"
    }
   ],
   "source": [
    "train_df.isnull().sum()"
   ]
  },
  {
   "cell_type": "code",
   "execution_count": 8,
   "id": "36abebbc",
   "metadata": {
    "execution": {
     "iopub.execute_input": "2024-09-12T08:29:27.027083Z",
     "iopub.status.busy": "2024-09-12T08:29:27.026100Z",
     "iopub.status.idle": "2024-09-12T08:29:27.089144Z",
     "shell.execute_reply": "2024-09-12T08:29:27.087341Z"
    },
    "executionInfo": {
     "elapsed": 17,
     "status": "ok",
     "timestamp": 1724850578507,
     "user": {
      "displayName": "Hanin Sherif",
      "userId": "01538783181169899039"
     },
     "user_tz": -180
    },
    "id": "_5ZDZQ73Kydz",
    "outputId": "06d3ee25-ae73-4423-9d9a-1fb950d12278",
    "papermill": {
     "duration": 0.079567,
     "end_time": "2024-09-12T08:29:27.092114",
     "exception": false,
     "start_time": "2024-09-12T08:29:27.012547",
     "status": "completed"
    },
    "tags": []
   },
   "outputs": [
    {
     "data": {
      "text/plain": [
       "textID              0\n",
       "text                0\n",
       "selected_text       0\n",
       "sentiment           0\n",
       "Time of Tweet       0\n",
       "Age of User         0\n",
       "Country             0\n",
       "Population -2020    0\n",
       "Land Area (Km²)     0\n",
       "Density (P/Km²)     0\n",
       "dtype: int64"
      ]
     },
     "execution_count": 8,
     "metadata": {},
     "output_type": "execute_result"
    }
   ],
   "source": [
    "train_df = train_df.dropna()\n",
    "train_df.isnull().sum()"
   ]
  },
  {
   "cell_type": "code",
   "execution_count": 9,
   "id": "a64e5552",
   "metadata": {
    "execution": {
     "iopub.execute_input": "2024-09-12T08:29:27.119099Z",
     "iopub.status.busy": "2024-09-12T08:29:27.118608Z",
     "iopub.status.idle": "2024-09-12T08:29:27.131656Z",
     "shell.execute_reply": "2024-09-12T08:29:27.130317Z"
    },
    "executionInfo": {
     "elapsed": 442,
     "status": "ok",
     "timestamp": 1724850582831,
     "user": {
      "displayName": "Hanin Sherif",
      "userId": "01538783181169899039"
     },
     "user_tz": -180
    },
    "id": "x5nimN6_WGRR",
    "outputId": "e1cef773-07db-46a6-c21c-6e3034426b83",
    "papermill": {
     "duration": 0.02978,
     "end_time": "2024-09-12T08:29:27.134237",
     "exception": false,
     "start_time": "2024-09-12T08:29:27.104457",
     "status": "completed"
    },
    "tags": []
   },
   "outputs": [
    {
     "data": {
      "text/plain": [
       "textID              1281\n",
       "text                1281\n",
       "sentiment           1281\n",
       "Time of Tweet       1281\n",
       "Age of User         1281\n",
       "Country             1281\n",
       "Population -2020    1281\n",
       "Land Area (Km²)     1281\n",
       "Density (P/Km²)     1281\n",
       "dtype: int64"
      ]
     },
     "execution_count": 9,
     "metadata": {},
     "output_type": "execute_result"
    }
   ],
   "source": [
    "test_df.isnull().sum()"
   ]
  },
  {
   "cell_type": "code",
   "execution_count": 10,
   "id": "d14f0c7d",
   "metadata": {
    "execution": {
     "iopub.execute_input": "2024-09-12T08:29:27.161287Z",
     "iopub.status.busy": "2024-09-12T08:29:27.160720Z",
     "iopub.status.idle": "2024-09-12T08:29:27.179685Z",
     "shell.execute_reply": "2024-09-12T08:29:27.178270Z"
    },
    "executionInfo": {
     "elapsed": 450,
     "status": "ok",
     "timestamp": 1724850587600,
     "user": {
      "displayName": "Hanin Sherif",
      "userId": "01538783181169899039"
     },
     "user_tz": -180
    },
    "id": "A3hqNN4GWP9J",
    "outputId": "c5774f72-193b-41a8-ee94-39a33032bafc",
    "papermill": {
     "duration": 0.03593,
     "end_time": "2024-09-12T08:29:27.182600",
     "exception": false,
     "start_time": "2024-09-12T08:29:27.146670",
     "status": "completed"
    },
    "tags": []
   },
   "outputs": [
    {
     "data": {
      "text/plain": [
       "textID              0\n",
       "text                0\n",
       "sentiment           0\n",
       "Time of Tweet       0\n",
       "Age of User         0\n",
       "Country             0\n",
       "Population -2020    0\n",
       "Land Area (Km²)     0\n",
       "Density (P/Km²)     0\n",
       "dtype: int64"
      ]
     },
     "execution_count": 10,
     "metadata": {},
     "output_type": "execute_result"
    }
   ],
   "source": [
    "test_df = test_df.dropna()\n",
    "test_df.isnull().sum()"
   ]
  },
  {
   "cell_type": "markdown",
   "id": "24e47658",
   "metadata": {
    "id": "kOgrqQewLCdw",
    "papermill": {
     "duration": 0.012424,
     "end_time": "2024-09-12T08:29:27.208101",
     "exception": false,
     "start_time": "2024-09-12T08:29:27.195677",
     "status": "completed"
    },
    "tags": []
   },
   "source": [
    "#### Removing stopwords & lowercase all text"
   ]
  },
  {
   "cell_type": "code",
   "execution_count": 11,
   "id": "c36c4374",
   "metadata": {
    "execution": {
     "iopub.execute_input": "2024-09-12T08:29:27.235227Z",
     "iopub.status.busy": "2024-09-12T08:29:27.234756Z",
     "iopub.status.idle": "2024-09-12T08:29:27.325340Z",
     "shell.execute_reply": "2024-09-12T08:29:27.324094Z"
    },
    "executionInfo": {
     "elapsed": 450,
     "status": "ok",
     "timestamp": 1724850596424,
     "user": {
      "displayName": "Hanin Sherif",
      "userId": "01538783181169899039"
     },
     "user_tz": -180
    },
    "id": "Qpsxd4BWNHJO",
    "outputId": "92172465-44d7-4ed7-b841-96341da26927",
    "papermill": {
     "duration": 0.10721,
     "end_time": "2024-09-12T08:29:27.327852",
     "exception": false,
     "start_time": "2024-09-12T08:29:27.220642",
     "status": "completed"
    },
    "tags": []
   },
   "outputs": [
    {
     "name": "stdout",
     "output_type": "stream",
     "text": [
      "[nltk_data] Downloading package stopwords to /usr/share/nltk_data...\n",
      "[nltk_data]   Package stopwords is already up-to-date!\n"
     ]
    },
    {
     "data": {
      "text/plain": [
       "True"
      ]
     },
     "execution_count": 11,
     "metadata": {},
     "output_type": "execute_result"
    }
   ],
   "source": [
    "# Download necessary NLTK data\n",
    "nltk.download('stopwords')"
   ]
  },
  {
   "cell_type": "code",
   "execution_count": 12,
   "id": "073a1e37",
   "metadata": {
    "execution": {
     "iopub.execute_input": "2024-09-12T08:29:27.355924Z",
     "iopub.status.busy": "2024-09-12T08:29:27.355444Z",
     "iopub.status.idle": "2024-09-12T08:29:27.362622Z",
     "shell.execute_reply": "2024-09-12T08:29:27.361294Z"
    },
    "executionInfo": {
     "elapsed": 443,
     "status": "ok",
     "timestamp": 1724850599546,
     "user": {
      "displayName": "Hanin Sherif",
      "userId": "01538783181169899039"
     },
     "user_tz": -180
    },
    "id": "GyCFZy2FOZ0u",
    "papermill": {
     "duration": 0.024154,
     "end_time": "2024-09-12T08:29:27.365263",
     "exception": false,
     "start_time": "2024-09-12T08:29:27.341109",
     "status": "completed"
    },
    "tags": []
   },
   "outputs": [],
   "source": [
    "# Text preprocessing function that removes stopwords and convert text to lowercase\n",
    "\n",
    "def preprocess_text(text):\n",
    "    # Convert to lowercase\n",
    "    text = text.lower()\n",
    "    # Remove stopwords\n",
    "    stop_words = set(stopwords.words('english'))\n",
    "    text = \" \".join([word for word in text.split() if word not in stop_words])\n",
    "    return text\n",
    "\n"
   ]
  },
  {
   "cell_type": "code",
   "execution_count": 13,
   "id": "b8266c9f",
   "metadata": {
    "execution": {
     "iopub.execute_input": "2024-09-12T08:29:27.393016Z",
     "iopub.status.busy": "2024-09-12T08:29:27.392539Z",
     "iopub.status.idle": "2024-09-12T08:29:31.937026Z",
     "shell.execute_reply": "2024-09-12T08:29:31.935901Z"
    },
    "executionInfo": {
     "elapsed": 4874,
     "status": "ok",
     "timestamp": 1724850609625,
     "user": {
      "displayName": "Hanin Sherif",
      "userId": "01538783181169899039"
     },
     "user_tz": -180
    },
    "id": "6Rd5y7pkOyXz",
    "outputId": "7e8ef577-2c1d-42c5-8f32-36aad8b76d10",
    "papermill": {
     "duration": 4.561152,
     "end_time": "2024-09-12T08:29:31.939623",
     "exception": false,
     "start_time": "2024-09-12T08:29:27.378471",
     "status": "completed"
    },
    "tags": []
   },
   "outputs": [
    {
     "data": {
      "text/html": [
       "<div>\n",
       "<style scoped>\n",
       "    .dataframe tbody tr th:only-of-type {\n",
       "        vertical-align: middle;\n",
       "    }\n",
       "\n",
       "    .dataframe tbody tr th {\n",
       "        vertical-align: top;\n",
       "    }\n",
       "\n",
       "    .dataframe thead th {\n",
       "        text-align: right;\n",
       "    }\n",
       "</style>\n",
       "<table border=\"1\" class=\"dataframe\">\n",
       "  <thead>\n",
       "    <tr style=\"text-align: right;\">\n",
       "      <th></th>\n",
       "      <th>textID</th>\n",
       "      <th>text</th>\n",
       "      <th>selected_text</th>\n",
       "      <th>sentiment</th>\n",
       "      <th>Time of Tweet</th>\n",
       "      <th>Age of User</th>\n",
       "      <th>Country</th>\n",
       "      <th>Population -2020</th>\n",
       "      <th>Land Area (Km²)</th>\n",
       "      <th>Density (P/Km²)</th>\n",
       "      <th>processed_text</th>\n",
       "    </tr>\n",
       "  </thead>\n",
       "  <tbody>\n",
       "    <tr>\n",
       "      <th>0</th>\n",
       "      <td>cb774db0d1</td>\n",
       "      <td>I`d have responded, if I were going</td>\n",
       "      <td>I`d have responded, if I were going</td>\n",
       "      <td>neutral</td>\n",
       "      <td>morning</td>\n",
       "      <td>0-20</td>\n",
       "      <td>Afghanistan</td>\n",
       "      <td>38928346</td>\n",
       "      <td>652860.0</td>\n",
       "      <td>60</td>\n",
       "      <td>i`d responded, going</td>\n",
       "    </tr>\n",
       "    <tr>\n",
       "      <th>1</th>\n",
       "      <td>549e992a42</td>\n",
       "      <td>Sooo SAD I will miss you here in San Diego!!!</td>\n",
       "      <td>Sooo SAD</td>\n",
       "      <td>negative</td>\n",
       "      <td>noon</td>\n",
       "      <td>21-30</td>\n",
       "      <td>Albania</td>\n",
       "      <td>2877797</td>\n",
       "      <td>27400.0</td>\n",
       "      <td>105</td>\n",
       "      <td>sooo sad miss san diego!!!</td>\n",
       "    </tr>\n",
       "    <tr>\n",
       "      <th>2</th>\n",
       "      <td>088c60f138</td>\n",
       "      <td>my boss is bullying me...</td>\n",
       "      <td>bullying me</td>\n",
       "      <td>negative</td>\n",
       "      <td>night</td>\n",
       "      <td>31-45</td>\n",
       "      <td>Algeria</td>\n",
       "      <td>43851044</td>\n",
       "      <td>2381740.0</td>\n",
       "      <td>18</td>\n",
       "      <td>boss bullying me...</td>\n",
       "    </tr>\n",
       "    <tr>\n",
       "      <th>3</th>\n",
       "      <td>9642c003ef</td>\n",
       "      <td>what interview! leave me alone</td>\n",
       "      <td>leave me alone</td>\n",
       "      <td>negative</td>\n",
       "      <td>morning</td>\n",
       "      <td>46-60</td>\n",
       "      <td>Andorra</td>\n",
       "      <td>77265</td>\n",
       "      <td>470.0</td>\n",
       "      <td>164</td>\n",
       "      <td>interview! leave alone</td>\n",
       "    </tr>\n",
       "    <tr>\n",
       "      <th>4</th>\n",
       "      <td>358bd9e861</td>\n",
       "      <td>Sons of ****, why couldn`t they put them on t...</td>\n",
       "      <td>Sons of ****,</td>\n",
       "      <td>negative</td>\n",
       "      <td>noon</td>\n",
       "      <td>60-70</td>\n",
       "      <td>Angola</td>\n",
       "      <td>32866272</td>\n",
       "      <td>1246700.0</td>\n",
       "      <td>26</td>\n",
       "      <td>sons ****, couldn`t put releases already bought</td>\n",
       "    </tr>\n",
       "  </tbody>\n",
       "</table>\n",
       "</div>"
      ],
      "text/plain": [
       "       textID                                               text  \\\n",
       "0  cb774db0d1                I`d have responded, if I were going   \n",
       "1  549e992a42      Sooo SAD I will miss you here in San Diego!!!   \n",
       "2  088c60f138                          my boss is bullying me...   \n",
       "3  9642c003ef                     what interview! leave me alone   \n",
       "4  358bd9e861   Sons of ****, why couldn`t they put them on t...   \n",
       "\n",
       "                         selected_text sentiment Time of Tweet Age of User  \\\n",
       "0  I`d have responded, if I were going   neutral       morning        0-20   \n",
       "1                             Sooo SAD  negative          noon       21-30   \n",
       "2                          bullying me  negative         night       31-45   \n",
       "3                       leave me alone  negative       morning       46-60   \n",
       "4                        Sons of ****,  negative          noon       60-70   \n",
       "\n",
       "       Country  Population -2020  Land Area (Km²)  Density (P/Km²)  \\\n",
       "0  Afghanistan          38928346         652860.0               60   \n",
       "1      Albania           2877797          27400.0              105   \n",
       "2      Algeria          43851044        2381740.0               18   \n",
       "3      Andorra             77265            470.0              164   \n",
       "4       Angola          32866272        1246700.0               26   \n",
       "\n",
       "                                    processed_text  \n",
       "0                             i`d responded, going  \n",
       "1                       sooo sad miss san diego!!!  \n",
       "2                              boss bullying me...  \n",
       "3                           interview! leave alone  \n",
       "4  sons ****, couldn`t put releases already bought  "
      ]
     },
     "execution_count": 13,
     "metadata": {},
     "output_type": "execute_result"
    }
   ],
   "source": [
    "# Apply preprocessing on train dataset\n",
    "train_df['processed_text'] = train_df['text'].apply(preprocess_text)\n",
    "train_df.head()"
   ]
  },
  {
   "cell_type": "code",
   "execution_count": 14,
   "id": "e4f0866b",
   "metadata": {
    "execution": {
     "iopub.execute_input": "2024-09-12T08:29:31.968026Z",
     "iopub.status.busy": "2024-09-12T08:29:31.967469Z",
     "iopub.status.idle": "2024-09-12T08:29:32.579349Z",
     "shell.execute_reply": "2024-09-12T08:29:32.578141Z"
    },
    "executionInfo": {
     "elapsed": 927,
     "status": "ok",
     "timestamp": 1724850619073,
     "user": {
      "displayName": "Hanin Sherif",
      "userId": "01538783181169899039"
     },
     "user_tz": -180
    },
    "id": "2Vpcp2FVXXVQ",
    "outputId": "181613cf-bd23-4466-aeaa-11f37779ce4e",
    "papermill": {
     "duration": 0.629114,
     "end_time": "2024-09-12T08:29:32.582088",
     "exception": false,
     "start_time": "2024-09-12T08:29:31.952974",
     "status": "completed"
    },
    "tags": []
   },
   "outputs": [
    {
     "data": {
      "text/html": [
       "<div>\n",
       "<style scoped>\n",
       "    .dataframe tbody tr th:only-of-type {\n",
       "        vertical-align: middle;\n",
       "    }\n",
       "\n",
       "    .dataframe tbody tr th {\n",
       "        vertical-align: top;\n",
       "    }\n",
       "\n",
       "    .dataframe thead th {\n",
       "        text-align: right;\n",
       "    }\n",
       "</style>\n",
       "<table border=\"1\" class=\"dataframe\">\n",
       "  <thead>\n",
       "    <tr style=\"text-align: right;\">\n",
       "      <th></th>\n",
       "      <th>textID</th>\n",
       "      <th>text</th>\n",
       "      <th>sentiment</th>\n",
       "      <th>Time of Tweet</th>\n",
       "      <th>Age of User</th>\n",
       "      <th>Country</th>\n",
       "      <th>Population -2020</th>\n",
       "      <th>Land Area (Km²)</th>\n",
       "      <th>Density (P/Km²)</th>\n",
       "      <th>processed_text</th>\n",
       "    </tr>\n",
       "  </thead>\n",
       "  <tbody>\n",
       "    <tr>\n",
       "      <th>0</th>\n",
       "      <td>f87dea47db</td>\n",
       "      <td>Last session of the day  http://twitpic.com/67ezh</td>\n",
       "      <td>neutral</td>\n",
       "      <td>morning</td>\n",
       "      <td>0-20</td>\n",
       "      <td>Afghanistan</td>\n",
       "      <td>38928346.0</td>\n",
       "      <td>652860.0</td>\n",
       "      <td>60.0</td>\n",
       "      <td>last session day http://twitpic.com/67ezh</td>\n",
       "    </tr>\n",
       "    <tr>\n",
       "      <th>1</th>\n",
       "      <td>96d74cb729</td>\n",
       "      <td>Shanghai is also really exciting (precisely -...</td>\n",
       "      <td>positive</td>\n",
       "      <td>noon</td>\n",
       "      <td>21-30</td>\n",
       "      <td>Albania</td>\n",
       "      <td>2877797.0</td>\n",
       "      <td>27400.0</td>\n",
       "      <td>105.0</td>\n",
       "      <td>shanghai also really exciting (precisely -- sk...</td>\n",
       "    </tr>\n",
       "    <tr>\n",
       "      <th>2</th>\n",
       "      <td>eee518ae67</td>\n",
       "      <td>Recession hit Veronique Branquinho, she has to...</td>\n",
       "      <td>negative</td>\n",
       "      <td>night</td>\n",
       "      <td>31-45</td>\n",
       "      <td>Algeria</td>\n",
       "      <td>43851044.0</td>\n",
       "      <td>2381740.0</td>\n",
       "      <td>18.0</td>\n",
       "      <td>recession hit veronique branquinho, quit compa...</td>\n",
       "    </tr>\n",
       "    <tr>\n",
       "      <th>3</th>\n",
       "      <td>01082688c6</td>\n",
       "      <td>happy bday!</td>\n",
       "      <td>positive</td>\n",
       "      <td>morning</td>\n",
       "      <td>46-60</td>\n",
       "      <td>Andorra</td>\n",
       "      <td>77265.0</td>\n",
       "      <td>470.0</td>\n",
       "      <td>164.0</td>\n",
       "      <td>happy bday!</td>\n",
       "    </tr>\n",
       "    <tr>\n",
       "      <th>4</th>\n",
       "      <td>33987a8ee5</td>\n",
       "      <td>http://twitpic.com/4w75p - I like it!!</td>\n",
       "      <td>positive</td>\n",
       "      <td>noon</td>\n",
       "      <td>60-70</td>\n",
       "      <td>Angola</td>\n",
       "      <td>32866272.0</td>\n",
       "      <td>1246700.0</td>\n",
       "      <td>26.0</td>\n",
       "      <td>http://twitpic.com/4w75p - like it!!</td>\n",
       "    </tr>\n",
       "  </tbody>\n",
       "</table>\n",
       "</div>"
      ],
      "text/plain": [
       "       textID                                               text sentiment  \\\n",
       "0  f87dea47db  Last session of the day  http://twitpic.com/67ezh   neutral   \n",
       "1  96d74cb729   Shanghai is also really exciting (precisely -...  positive   \n",
       "2  eee518ae67  Recession hit Veronique Branquinho, she has to...  negative   \n",
       "3  01082688c6                                        happy bday!  positive   \n",
       "4  33987a8ee5             http://twitpic.com/4w75p - I like it!!  positive   \n",
       "\n",
       "  Time of Tweet Age of User      Country  Population -2020  Land Area (Km²)  \\\n",
       "0       morning        0-20  Afghanistan        38928346.0         652860.0   \n",
       "1          noon       21-30      Albania         2877797.0          27400.0   \n",
       "2         night       31-45      Algeria        43851044.0        2381740.0   \n",
       "3       morning       46-60      Andorra           77265.0            470.0   \n",
       "4          noon       60-70       Angola        32866272.0        1246700.0   \n",
       "\n",
       "   Density (P/Km²)                                     processed_text  \n",
       "0             60.0          last session day http://twitpic.com/67ezh  \n",
       "1            105.0  shanghai also really exciting (precisely -- sk...  \n",
       "2             18.0  recession hit veronique branquinho, quit compa...  \n",
       "3            164.0                                        happy bday!  \n",
       "4             26.0               http://twitpic.com/4w75p - like it!!  "
      ]
     },
     "execution_count": 14,
     "metadata": {},
     "output_type": "execute_result"
    }
   ],
   "source": [
    "# Apply preprocessing on test dataset\n",
    "test_df['processed_text'] = test_df['text'].apply(preprocess_text)\n",
    "test_df.head()"
   ]
  },
  {
   "cell_type": "markdown",
   "id": "70a13c05",
   "metadata": {
    "id": "U9FZF-S6RwT0",
    "papermill": {
     "duration": 0.013479,
     "end_time": "2024-09-12T08:29:32.609294",
     "exception": false,
     "start_time": "2024-09-12T08:29:32.595815",
     "status": "completed"
    },
    "tags": []
   },
   "source": [
    "## Check Imbalancing"
   ]
  },
  {
   "cell_type": "code",
   "execution_count": 15,
   "id": "95ef5cba",
   "metadata": {
    "execution": {
     "iopub.execute_input": "2024-09-12T08:29:32.638685Z",
     "iopub.status.busy": "2024-09-12T08:29:32.638234Z",
     "iopub.status.idle": "2024-09-12T08:29:32.982915Z",
     "shell.execute_reply": "2024-09-12T08:29:32.981641Z"
    },
    "executionInfo": {
     "elapsed": 470,
     "status": "ok",
     "timestamp": 1724850703502,
     "user": {
      "displayName": "Hanin Sherif",
      "userId": "01538783181169899039"
     },
     "user_tz": -180
    },
    "id": "uRP-7dXHUcgb",
    "outputId": "b727408d-eef6-464d-e928-dcdd622bc2eb",
    "papermill": {
     "duration": 0.36266,
     "end_time": "2024-09-12T08:29:32.985649",
     "exception": false,
     "start_time": "2024-09-12T08:29:32.622989",
     "status": "completed"
    },
    "tags": []
   },
   "outputs": [
    {
     "data": {
      "image/png": "[encoded data removed]",
      "text/plain": [
       "<Figure size 640x480 with 1 Axes>"
      ]
     },
     "metadata": {},
     "output_type": "display_data"
    }
   ],
   "source": [
    "# Distribution of sentiment labels\n",
    "sns.countplot(x='sentiment', data=train_df)\n",
    "plt.title(\"Distribution of Sentiment Labels\")\n",
    "plt.show()"
   ]
  },
  {
   "cell_type": "markdown",
   "id": "ceec44d4",
   "metadata": {
    "id": "uISBPiO4SViM",
    "papermill": {
     "duration": 0.014564,
     "end_time": "2024-09-12T08:29:33.014970",
     "exception": false,
     "start_time": "2024-09-12T08:29:33.000406",
     "status": "completed"
    },
    "tags": []
   },
   "source": [
    "## Machine Learning Model: Naive Bayes"
   ]
  },
  {
   "cell_type": "code",
   "execution_count": 16,
   "id": "f8e4354a",
   "metadata": {
    "execution": {
     "iopub.execute_input": "2024-09-12T08:29:33.045514Z",
     "iopub.status.busy": "2024-09-12T08:29:33.045091Z",
     "iopub.status.idle": "2024-09-12T08:29:33.678024Z",
     "shell.execute_reply": "2024-09-12T08:29:33.676815Z"
    },
    "executionInfo": {
     "elapsed": 549,
     "status": "ok",
     "timestamp": 1724856247734,
     "user": {
      "displayName": "Hanin Sherif",
      "userId": "01538783181169899039"
     },
     "user_tz": -180
    },
    "id": "kjrUFBBmLKv6",
    "papermill": {
     "duration": 0.652088,
     "end_time": "2024-09-12T08:29:33.681664",
     "exception": false,
     "start_time": "2024-09-12T08:29:33.029576",
     "status": "completed"
    },
    "tags": []
   },
   "outputs": [],
   "source": [
    "# Convert text data to TF-IDF\n",
    "\n",
    "vectorizer = TfidfVectorizer(max_features=5000)\n",
    "train_TFIDF = vectorizer.fit_transform(train_df['processed_text'])\n",
    "test_TFIDF = vectorizer.transform(test_df['processed_text'])\n",
    "\n",
    "# Assign X and y for the training data\n",
    "X = train_TFIDF\n",
    "y = train_df['sentiment']\n",
    "\n",
    "\n"
   ]
  },
  {
   "cell_type": "code",
   "execution_count": 17,
   "id": "f8daf6fd",
   "metadata": {
    "execution": {
     "iopub.execute_input": "2024-09-12T08:29:33.722425Z",
     "iopub.status.busy": "2024-09-12T08:29:33.721956Z",
     "iopub.status.idle": "2024-09-12T08:29:33.899146Z",
     "shell.execute_reply": "2024-09-12T08:29:33.897822Z"
    },
    "executionInfo": {
     "elapsed": 517,
     "status": "ok",
     "timestamp": 1724856262715,
     "user": {
      "displayName": "Hanin Sherif",
      "userId": "01538783181169899039"
     },
     "user_tz": -180
    },
    "id": "TAqVpjoyLwU_",
    "outputId": "ce23be67-04a7-4199-fe01-5045316a9e3d",
    "papermill": {
     "duration": 0.1999,
     "end_time": "2024-09-12T08:29:33.901822",
     "exception": false,
     "start_time": "2024-09-12T08:29:33.701922",
     "status": "completed"
    },
    "tags": []
   },
   "outputs": [
    {
     "data": {
      "text/html": [
       "<style>#sk-container-id-1 {color: black;background-color: white;}#sk-container-id-1 pre{padding: 0;}#sk-container-id-1 div.sk-toggleable {background-color: white;}#sk-container-id-1 label.sk-toggleable__label {cursor: pointer;display: block;width: 100%;margin-bottom: 0;padding: 0.3em;box-sizing: border-box;text-align: center;}#sk-container-id-1 label.sk-toggleable__label-arrow:before {content: \"▸\";float: left;margin-right: 0.25em;color: #696969;}#sk-container-id-1 label.sk-toggleable__label-arrow:hover:before {color: black;}#sk-container-id-1 div.sk-estimator:hover label.sk-toggleable__label-arrow:before {color: black;}#sk-container-id-1 div.sk-toggleable__content {max-height: 0;max-width: 0;overflow: hidden;text-align: left;background-color: #f0f8ff;}#sk-container-id-1 div.sk-toggleable__content pre {margin: 0.2em;color: black;border-radius: 0.25em;background-color: #f0f8ff;}#sk-container-id-1 input.sk-toggleable__control:checked~div.sk-toggleable__content {max-height: 200px;max-width: 100%;overflow: auto;}#sk-container-id-1 input.sk-toggleable__control:checked~label.sk-toggleable__label-arrow:before {content: \"▾\";}#sk-container-id-1 div.sk-estimator input.sk-toggleable__control:checked~label.sk-toggleable__label {background-color: #d4ebff;}#sk-container-id-1 div.sk-label input.sk-toggleable__control:checked~label.sk-toggleable__label {background-color: #d4ebff;}#sk-container-id-1 input.sk-hidden--visually {border: 0;clip: rect(1px 1px 1px 1px);clip: rect(1px, 1px, 1px, 1px);height: 1px;margin: -1px;overflow: hidden;padding: 0;position: absolute;width: 1px;}#sk-container-id-1 div.sk-estimator {font-family: monospace;background-color: #f0f8ff;border: 1px dotted black;border-radius: 0.25em;box-sizing: border-box;margin-bottom: 0.5em;}#sk-container-id-1 div.sk-estimator:hover {background-color: #d4ebff;}#sk-container-id-1 div.sk-parallel-item::after {content: \"\";width: 100%;border-bottom: 1px solid gray;flex-grow: 1;}#sk-container-id-1 div.sk-label:hover label.sk-toggleable__label {background-color: #d4ebff;}#sk-container-id-1 div.sk-serial::before {content: \"\";position: absolute;border-left: 1px solid gray;box-sizing: border-box;top: 0;bottom: 0;left: 50%;z-index: 0;}#sk-container-id-1 div.sk-serial {display: flex;flex-direction: column;align-items: center;background-color: white;padding-right: 0.2em;padding-left: 0.2em;position: relative;}#sk-container-id-1 div.sk-item {position: relative;z-index: 1;}#sk-container-id-1 div.sk-parallel {display: flex;align-items: stretch;justify-content: center;background-color: white;position: relative;}#sk-container-id-1 div.sk-item::before, #sk-container-id-1 div.sk-parallel-item::before {content: \"\";position: absolute;border-left: 1px solid gray;box-sizing: border-box;top: 0;bottom: 0;left: 50%;z-index: -1;}#sk-container-id-1 div.sk-parallel-item {display: flex;flex-direction: column;z-index: 1;position: relative;background-color: white;}#sk-container-id-1 div.sk-parallel-item:first-child::after {align-self: flex-end;width: 50%;}#sk-container-id-1 div.sk-parallel-item:last-child::after {align-self: flex-start;width: 50%;}#sk-container-id-1 div.sk-parallel-item:only-child::after {width: 0;}#sk-container-id-1 div.sk-dashed-wrapped {border: 1px dashed gray;margin: 0 0.4em 0.5em 0.4em;box-sizing: border-box;padding-bottom: 0.4em;background-color: white;}#sk-container-id-1 div.sk-label label {font-family: monospace;font-weight: bold;display: inline-block;line-height: 1.2em;}#sk-container-id-1 div.sk-label-container {text-align: center;}#sk-container-id-1 div.sk-container {/* jupyter's `normalize.less` sets `[hidden] { display: none; }` but bootstrap.min.css set `[hidden] { display: none !important; }` so we also need the `!important` here to be able to override the default hidden behavior on the sphinx rendered scikit-learn.org. See: https://github.com/scikit-learn/scikit-learn/issues/21755 */display: inline-block !important;position: relative;}#sk-container-id-1 div.sk-text-repr-fallback {display: none;}</style><div id=\"sk-container-id-1\" class=\"sk-top-container\"><div class=\"sk-text-repr-fallback\"><pre>MultinomialNB()</pre><b>In a Jupyter environment, please rerun this cell to show the HTML representation or trust the notebook. <br />On GitHub, the HTML representation is unable to render, please try loading this page with nbviewer.org.</b></div><div class=\"sk-container\" hidden><div class=\"sk-item\"><div class=\"sk-estimator sk-toggleable\"><input class=\"sk-toggleable__control sk-hidden--visually\" id=\"sk-estimator-id-1\" type=\"checkbox\" checked><label for=\"sk-estimator-id-1\" class=\"sk-toggleable__label sk-toggleable__label-arrow\">MultinomialNB</label><div class=\"sk-toggleable__content\"><pre>MultinomialNB()</pre></div></div></div></div></div>"
      ],
      "text/plain": [
       "MultinomialNB()"
      ]
     },
     "execution_count": 17,
     "metadata": {},
     "output_type": "execute_result"
    }
   ],
   "source": [
    "NB_model = MultinomialNB()\n",
    "NB_model.fit(X, y)"
   ]
  },
  {
   "cell_type": "markdown",
   "id": "7c5dfb87",
   "metadata": {
    "id": "QUgqW43GU6ne",
    "papermill": {
     "duration": 0.021219,
     "end_time": "2024-09-12T08:29:33.938049",
     "exception": false,
     "start_time": "2024-09-12T08:29:33.916830",
     "status": "completed"
    },
    "tags": []
   },
   "source": [
    "## Evaluation"
   ]
  },
  {
   "cell_type": "code",
   "execution_count": 18,
   "id": "452c3eb3",
   "metadata": {
    "execution": {
     "iopub.execute_input": "2024-09-12T08:29:33.972946Z",
     "iopub.status.busy": "2024-09-12T08:29:33.971748Z",
     "iopub.status.idle": "2024-09-12T08:29:34.103664Z",
     "shell.execute_reply": "2024-09-12T08:29:34.101979Z"
    },
    "executionInfo": {
     "elapsed": 1902,
     "status": "ok",
     "timestamp": 1724856532037,
     "user": {
      "displayName": "Hanin Sherif",
      "userId": "01538783181169899039"
     },
     "user_tz": -180
    },
    "id": "s8_Iuj66dBip",
    "outputId": "aa32c88f-cc13-4ef0-e62d-8bf09de5dfe2",
    "papermill": {
     "duration": 0.151519,
     "end_time": "2024-09-12T08:29:34.106570",
     "exception": false,
     "start_time": "2024-09-12T08:29:33.955051",
     "status": "completed"
    },
    "tags": []
   },
   "outputs": [
    {
     "name": "stdout",
     "output_type": "stream",
     "text": [
      "Accuracy: 0.6386530843237125\n",
      "              precision    recall  f1-score   support\n",
      "\n",
      "    negative       0.73      0.50      0.59      1001\n",
      "     neutral       0.55      0.77      0.65      1430\n",
      "    positive       0.76      0.60      0.67      1103\n",
      "\n",
      "    accuracy                           0.64      3534\n",
      "   macro avg       0.68      0.62      0.63      3534\n",
      "weighted avg       0.67      0.64      0.64      3534\n",
      "\n"
     ]
    }
   ],
   "source": [
    "# Make predictions on the test data\n",
    "predictions = NB_model.predict(test_TFIDF)\n",
    "\n",
    "print(f\"Accuracy: {accuracy_score(test_df['sentiment'], predictions)}\")\n",
    "print(classification_report(test_df['sentiment'], predictions))\n"
   ]
  },
  {
   "cell_type": "markdown",
   "id": "0819e514",
   "metadata": {
    "id": "xkD2ubONd_R2",
    "papermill": {
     "duration": 0.01421,
     "end_time": "2024-09-12T08:29:34.135797",
     "exception": false,
     "start_time": "2024-09-12T08:29:34.121587",
     "status": "completed"
    },
    "tags": []
   },
   "source": [
    "## Testing"
   ]
  },
  {
   "cell_type": "code",
   "execution_count": 19,
   "id": "45ce3f31",
   "metadata": {
    "execution": {
     "iopub.execute_input": "2024-09-12T08:29:34.168810Z",
     "iopub.status.busy": "2024-09-12T08:29:34.167882Z",
     "iopub.status.idle": "2024-09-12T08:29:34.177615Z",
     "shell.execute_reply": "2024-09-12T08:29:34.176189Z"
    },
    "executionInfo": {
     "elapsed": 807,
     "status": "ok",
     "timestamp": 1724856863093,
     "user": {
      "displayName": "Hanin Sherif",
      "userId": "01538783181169899039"
     },
     "user_tz": -180
    },
    "id": "9EQWbDjNeCS8",
    "outputId": "62cbd0bc-80de-49b8-fa49-a54dfea639d8",
    "papermill": {
     "duration": 0.02958,
     "end_time": "2024-09-12T08:29:34.180675",
     "exception": false,
     "start_time": "2024-09-12T08:29:34.151095",
     "status": "completed"
    },
    "tags": []
   },
   "outputs": [
    {
     "name": "stdout",
     "output_type": "stream",
     "text": [
      "Predicted sentiment: positive\n"
     ]
    }
   ],
   "source": [
    "# Provide custom input text\n",
    "input_text = [\"What a nice product!\"]\n",
    "\n",
    "input_TFIDF = vectorizer.transform(input_text)\n",
    "predicted_sentiment = NB_model.predict(input_TFIDF)\n",
    "print(f\"Predicted sentiment: {predicted_sentiment[0]}\")\n"
   ]
  }
 ],
 "metadata": {
  "colab": {
   "authorship_tag": "ABX9TyMVPSya4ImFENSxZvifq0uw",
   "collapsed_sections": [
    "U9FZF-S6RwT0"
   ],
   "provenance": [
    {
     "file_id": "1HG4_CeOl0Y26f3TN8rNintdkB5U_dC5i",
     "timestamp": 1724849759960
    }
   ]
  },
  "kaggle": {
   "accelerator": "none",
   "dataSources": [
    {
     "datasetId": 989445,
     "sourceId": 1808590,
     "sourceType": "datasetVersion"
    }
   ],
   "dockerImageVersionId": 30761,
   "isGpuEnabled": false,
   "isInternetEnabled": true,
   "language": "python",
   "sourceType": "notebook"
  },
  "kernelspec": {
   "display_name": "Python 3",
   "language": "python",
   "name": "python3"
  },
  "language_info": {
   "codemirror_mode": {
    "name": "ipython",
    "version": 3
   },
   "file_extension": ".py",
   "mimetype": "text/x-python",
   "name": "python",
   "nbconvert_exporter": "python",
   "pygments_lexer": "ipython3",
   "version": "3.10.14"
  },
  "papermill": {
   "default_parameters": {},
   "duration": 15.713577,
   "end_time": "2024-09-12T08:29:35.020630",
   "environment_variables": {},
   "exception": null,
   "input_path": "__notebook__.ipynb",
   "output_path": "__notebook__.ipynb",
   "parameters": {},
   "start_time": "2024-09-12T08:29:19.307053",
   "version": "2.6.0"
  }
 },
 "nbformat": 4,
 "nbformat_minor": 5
}
