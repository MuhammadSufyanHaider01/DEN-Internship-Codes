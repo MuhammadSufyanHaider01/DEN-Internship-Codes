{
 "cells": [
  {
   "cell_type": "code",
   "execution_count": 1,
   "id": "e5c14b2e",
   "metadata": {
    "_cell_guid": "b1076dfc-b9ad-4769-8c92-a6c4dae69d19",
    "_uuid": "8f2839f25d086af736a60e9eeb907d3b93b6e0e5",
    "execution": {
     "iopub.execute_input": "2024-06-02T15:36:01.523107Z",
     "iopub.status.busy": "2024-06-02T15:36:01.522678Z",
     "iopub.status.idle": "2024-06-02T15:36:02.420726Z",
     "shell.execute_reply": "2024-06-02T15:36:02.419328Z"
    },
    "papermill": {
     "duration": 0.908631,
     "end_time": "2024-06-02T15:36:02.423467",
     "exception": false,
     "start_time": "2024-06-02T15:36:01.514836",
     "status": "completed"
    },
    "tags": []
   },
   "outputs": [
    {
     "name": "stdout",
     "output_type": "stream",
     "text": [
      "/kaggle/input/synthetic-network-traffic/synthetic_network_traffic.csv\n"
     ]
    }
   ],
   "source": [
    "# This Python 3 environment comes with many helpful analytics libraries installed\n",
    "# It is defined by the kaggle/python Docker image: https://github.com/kaggle/docker-python\n",
    "# For example, here's several helpful packages to load\n",
    "\n",
    "import numpy as np # linear algebra\n",
    "import pandas as pd # data processing, CSV file I/O (e.g. pd.read_csv)\n",
    "\n",
    "# Input data files are available in the read-only \"../input/\" directory\n",
    "# For example, running this (by clicking run or pressing Shift+Enter) will list all files under the input directory\n",
    "\n",
    "import os\n",
    "for dirname, _, filenames in os.walk('/kaggle/input'):\n",
    "    for filename in filenames:\n",
    "        print(os.path.join(dirname, filename))\n",
    "\n",
    "# You can write up to 20GB to the current directory (/kaggle/working/) that gets preserved as output when you create a version using \"Save & Run All\" \n",
    "# You can also write temporary files to /kaggle/temp/, but they won't be saved outside of the current session"
   ]
  },
  {
   "cell_type": "markdown",
   "id": "ca652b20",
   "metadata": {
    "papermill": {
     "duration": 0.005333,
     "end_time": "2024-06-02T15:36:02.434612",
     "exception": false,
     "start_time": "2024-06-02T15:36:02.429279",
     "status": "completed"
    },
    "tags": []
   },
   "source": [
    "# **Import libraries**"
   ]
  },
  {
   "cell_type": "code",
   "execution_count": 2,
   "id": "160535a0",
   "metadata": {
    "execution": {
     "iopub.execute_input": "2024-06-02T15:36:02.447451Z",
     "iopub.status.busy": "2024-06-02T15:36:02.446866Z",
     "iopub.status.idle": "2024-06-02T15:36:04.288287Z",
     "shell.execute_reply": "2024-06-02T15:36:04.287175Z"
    },
    "papermill": {
     "duration": 1.850954,
     "end_time": "2024-06-02T15:36:04.291002",
     "exception": false,
     "start_time": "2024-06-02T15:36:02.440048",
     "status": "completed"
    },
    "tags": []
   },
   "outputs": [],
   "source": [
    "import pandas as pd\n",
    "import seaborn as sns\n",
    "import matplotlib.pyplot as plt\n",
    "from sklearn.model_selection import train_test_split\n",
    "from sklearn.preprocessing import StandardScaler\n",
    "from sklearn.tree import DecisionTreeRegressor\n",
    "from sklearn.metrics import mean_squared_error"
   ]
  },
  {
   "cell_type": "markdown",
   "id": "d83ede5f",
   "metadata": {
    "papermill": {
     "duration": 0.005563,
     "end_time": "2024-06-02T15:36:04.303713",
     "exception": false,
     "start_time": "2024-06-02T15:36:04.298150",
     "status": "completed"
    },
    "tags": []
   },
   "source": [
    "# **Import dataset**"
   ]
  },
  {
   "cell_type": "code",
   "execution_count": 3,
   "id": "2a7b4742",
   "metadata": {
    "execution": {
     "iopub.execute_input": "2024-06-02T15:36:04.317329Z",
     "iopub.status.busy": "2024-06-02T15:36:04.316309Z",
     "iopub.status.idle": "2024-06-02T15:36:08.332578Z",
     "shell.execute_reply": "2024-06-02T15:36:08.331321Z"
    },
    "papermill": {
     "duration": 4.025746,
     "end_time": "2024-06-02T15:36:08.335145",
     "exception": false,
     "start_time": "2024-06-02T15:36:04.309399",
     "status": "completed"
    },
    "tags": []
   },
   "outputs": [],
   "source": [
    "df = pd.read_csv('/kaggle/input/synthetic-network-traffic/synthetic_network_traffic.csv')"
   ]
  },
  {
   "cell_type": "code",
   "execution_count": 4,
   "id": "0375cf0b",
   "metadata": {
    "execution": {
     "iopub.execute_input": "2024-06-02T15:36:08.348781Z",
     "iopub.status.busy": "2024-06-02T15:36:08.348407Z",
     "iopub.status.idle": "2024-06-02T15:36:08.370115Z",
     "shell.execute_reply": "2024-06-02T15:36:08.368440Z"
    },
    "papermill": {
     "duration": 0.031468,
     "end_time": "2024-06-02T15:36:08.372695",
     "exception": false,
     "start_time": "2024-06-02T15:36:08.341227",
     "status": "completed"
    },
    "tags": []
   },
   "outputs": [
    {
     "name": "stdout",
     "output_type": "stream",
     "text": [
      "   SourceIP  DestinationIP  SourcePort  DestinationPort  Protocol  BytesSent  \\\n",
      "0  0.496714      -0.138264    0.647689         1.523030 -0.234153  -0.234137   \n",
      "1 -0.463418      -0.465730    0.241962        -1.913280 -1.724918  -0.562288   \n",
      "2  1.465649      -0.225776    0.067528        -1.424748 -0.544383   0.110923   \n",
      "3 -0.601707       1.852278   -0.013497        -1.057711  0.822545  -1.220844   \n",
      "4  0.738467       0.171368   -0.115648        -0.301104 -1.478522  -0.719844   \n",
      "\n",
      "   BytesReceived  PacketsSent  PacketsReceived  Duration  IsAnomaly  \n",
      "0       1.579213     0.767435        -0.469474  0.542560          0  \n",
      "1      -1.012831     0.314247        -0.908024 -1.412304          0  \n",
      "2      -1.150994     0.375698        -0.600639 -0.291694          0  \n",
      "3       0.208864    -1.959670        -1.328186  0.196861          0  \n",
      "4      -0.460639     1.057122         0.343618 -1.763040          0  \n"
     ]
    }
   ],
   "source": [
    "print(df.head())"
   ]
  },
  {
   "cell_type": "code",
   "execution_count": 5,
   "id": "bbd021dc",
   "metadata": {
    "execution": {
     "iopub.execute_input": "2024-06-02T15:36:08.386127Z",
     "iopub.status.busy": "2024-06-02T15:36:08.385683Z",
     "iopub.status.idle": "2024-06-02T15:36:08.408825Z",
     "shell.execute_reply": "2024-06-02T15:36:08.407033Z"
    },
    "papermill": {
     "duration": 0.032566,
     "end_time": "2024-06-02T15:36:08.411319",
     "exception": false,
     "start_time": "2024-06-02T15:36:08.378753",
     "status": "completed"
    },
    "tags": []
   },
   "outputs": [
    {
     "data": {
      "text/plain": [
       "<bound method DataFrame.info of         SourceIP  DestinationIP  SourcePort  DestinationPort  Protocol  \\\n",
       "0       0.496714      -0.138264    0.647689         1.523030 -0.234153   \n",
       "1      -0.463418      -0.465730    0.241962        -1.913280 -1.724918   \n",
       "2       1.465649      -0.225776    0.067528        -1.424748 -0.544383   \n",
       "3      -0.601707       1.852278   -0.013497        -1.057711  0.822545   \n",
       "4       0.738467       0.171368   -0.115648        -0.301104 -1.478522   \n",
       "...          ...            ...         ...              ...       ...   \n",
       "999995  0.002725      -0.638022    0.840857         1.306959 -0.992010   \n",
       "999996 -0.830555      -0.545716   -1.130178         0.021732 -0.565860   \n",
       "999997  0.047510      -1.310967    0.173328        -1.367077  1.003435   \n",
       "999998 -0.242768      -0.893310   -0.197664        -1.316390 -0.047899   \n",
       "999999  0.702928      -0.506723   -0.927974        -0.190821 -0.037183   \n",
       "\n",
       "        BytesSent  BytesReceived  PacketsSent  PacketsReceived  Duration  \\\n",
       "0       -0.234137       1.579213     0.767435        -0.469474  0.542560   \n",
       "1       -0.562288      -1.012831     0.314247        -0.908024 -1.412304   \n",
       "2        0.110923      -1.150994     0.375698        -0.600639 -0.291694   \n",
       "3       -1.220844       0.208864    -1.959670        -1.328186  0.196861   \n",
       "4       -0.719844      -0.460639     1.057122         0.343618 -1.763040   \n",
       "...           ...            ...          ...              ...       ...   \n",
       "999995  -0.210795       0.226693     0.948210         0.815519  0.240544   \n",
       "999996   1.438171       0.621305    -1.768177         1.461799 -0.668388   \n",
       "999997  -0.202177      -0.112733    -0.206338         0.086761 -1.954908   \n",
       "999998  -0.161381      -0.682240    -0.011741         0.684703 -0.019483   \n",
       "999999   0.626149      -0.585013     1.466957         0.644408  0.923612   \n",
       "\n",
       "        IsAnomaly  \n",
       "0               0  \n",
       "1               0  \n",
       "2               0  \n",
       "3               0  \n",
       "4               0  \n",
       "...           ...  \n",
       "999995          0  \n",
       "999996          0  \n",
       "999997          0  \n",
       "999998          0  \n",
       "999999          0  \n",
       "\n",
       "[1000000 rows x 11 columns]>"
      ]
     },
     "execution_count": 5,
     "metadata": {},
     "output_type": "execute_result"
    }
   ],
   "source": [
    "df.info"
   ]
  },
  {
   "cell_type": "code",
   "execution_count": 6,
   "id": "484403d1",
   "metadata": {
    "execution": {
     "iopub.execute_input": "2024-06-02T15:36:08.429743Z",
     "iopub.status.busy": "2024-06-02T15:36:08.429227Z",
     "iopub.status.idle": "2024-06-02T15:36:08.439171Z",
     "shell.execute_reply": "2024-06-02T15:36:08.437499Z"
    },
    "papermill": {
     "duration": 0.024238,
     "end_time": "2024-06-02T15:36:08.443056",
     "exception": false,
     "start_time": "2024-06-02T15:36:08.418818",
     "status": "completed"
    },
    "tags": []
   },
   "outputs": [
    {
     "data": {
      "text/plain": [
       "Index(['SourceIP', 'DestinationIP', 'SourcePort', 'DestinationPort',\n",
       "       'Protocol', 'BytesSent', 'BytesReceived', 'PacketsSent',\n",
       "       'PacketsReceived', 'Duration', 'IsAnomaly'],\n",
       "      dtype='object')"
      ]
     },
     "execution_count": 6,
     "metadata": {},
     "output_type": "execute_result"
    }
   ],
   "source": [
    "df.columns"
   ]
  },
  {
   "cell_type": "markdown",
   "id": "b041f696",
   "metadata": {
    "papermill": {
     "duration": 0.006232,
     "end_time": "2024-06-02T15:36:08.457149",
     "exception": false,
     "start_time": "2024-06-02T15:36:08.450917",
     "status": "completed"
    },
    "tags": []
   },
   "source": [
    "# **Data Proccessing**"
   ]
  },
  {
   "cell_type": "code",
   "execution_count": 7,
   "id": "8117b202",
   "metadata": {
    "execution": {
     "iopub.execute_input": "2024-06-02T15:36:08.473928Z",
     "iopub.status.busy": "2024-06-02T15:36:08.473528Z",
     "iopub.status.idle": "2024-06-02T15:36:08.507420Z",
     "shell.execute_reply": "2024-06-02T15:36:08.506387Z"
    },
    "papermill": {
     "duration": 0.04524,
     "end_time": "2024-06-02T15:36:08.509814",
     "exception": false,
     "start_time": "2024-06-02T15:36:08.464574",
     "status": "completed"
    },
    "tags": []
   },
   "outputs": [],
   "source": [
    "#using 'IsAnomaly' as target variable for simplicity\n",
    "\n",
    "X = df.drop(['IsAnomaly'], axis = 1)\n",
    "Y = df['IsAnomaly']"
   ]
  },
  {
   "cell_type": "markdown",
   "id": "ff609107",
   "metadata": {
    "papermill": {
     "duration": 0.005672,
     "end_time": "2024-06-02T15:36:08.521482",
     "exception": false,
     "start_time": "2024-06-02T15:36:08.515810",
     "status": "completed"
    },
    "tags": []
   },
   "source": [
    "# **Split The Data**"
   ]
  },
  {
   "cell_type": "code",
   "execution_count": 8,
   "id": "b18379be",
   "metadata": {
    "execution": {
     "iopub.execute_input": "2024-06-02T15:36:08.534766Z",
     "iopub.status.busy": "2024-06-02T15:36:08.534340Z",
     "iopub.status.idle": "2024-06-02T15:36:08.738345Z",
     "shell.execute_reply": "2024-06-02T15:36:08.737088Z"
    },
    "papermill": {
     "duration": 0.213735,
     "end_time": "2024-06-02T15:36:08.741064",
     "exception": false,
     "start_time": "2024-06-02T15:36:08.527329",
     "status": "completed"
    },
    "tags": []
   },
   "outputs": [],
   "source": [
    "# split the data into train test split\n",
    "\n",
    "X_train, X_test, Y_train, Y_test = train_test_split(X,Y, test_size = 0.3, random_state = 42)"
   ]
  },
  {
   "cell_type": "markdown",
   "id": "a22a89cc",
   "metadata": {
    "papermill": {
     "duration": 0.006069,
     "end_time": "2024-06-02T15:36:08.753199",
     "exception": false,
     "start_time": "2024-06-02T15:36:08.747130",
     "status": "completed"
    },
    "tags": []
   },
   "source": [
    "# **Standardize the Feature**"
   ]
  },
  {
   "cell_type": "code",
   "execution_count": 9,
   "id": "60e4b283",
   "metadata": {
    "execution": {
     "iopub.execute_input": "2024-06-02T15:36:08.769575Z",
     "iopub.status.busy": "2024-06-02T15:36:08.769065Z",
     "iopub.status.idle": "2024-06-02T15:36:08.896529Z",
     "shell.execute_reply": "2024-06-02T15:36:08.895428Z"
    },
    "papermill": {
     "duration": 0.140018,
     "end_time": "2024-06-02T15:36:08.899255",
     "exception": false,
     "start_time": "2024-06-02T15:36:08.759237",
     "status": "completed"
    },
    "tags": []
   },
   "outputs": [],
   "source": [
    "sl = StandardScaler()\n",
    "X_train = sl.fit_transform(X_train)\n",
    "X_test = sl.transform(X_test)"
   ]
  },
  {
   "cell_type": "markdown",
   "id": "e935cc50",
   "metadata": {
    "papermill": {
     "duration": 0.005552,
     "end_time": "2024-06-02T15:36:08.910820",
     "exception": false,
     "start_time": "2024-06-02T15:36:08.905268",
     "status": "completed"
    },
    "tags": []
   },
   "source": [
    "# **Train DecisionTreeRegressor**"
   ]
  },
  {
   "cell_type": "code",
   "execution_count": 10,
   "id": "563bc319",
   "metadata": {
    "execution": {
     "iopub.execute_input": "2024-06-02T15:36:08.924749Z",
     "iopub.status.busy": "2024-06-02T15:36:08.924304Z",
     "iopub.status.idle": "2024-06-02T15:36:56.919050Z",
     "shell.execute_reply": "2024-06-02T15:36:56.917790Z"
    },
    "papermill": {
     "duration": 48.011126,
     "end_time": "2024-06-02T15:36:56.927734",
     "exception": false,
     "start_time": "2024-06-02T15:36:08.916608",
     "status": "completed"
    },
    "tags": []
   },
   "outputs": [
    {
     "data": {
      "text/html": [
       "<style>#sk-container-id-1 {color: black;background-color: white;}#sk-container-id-1 pre{padding: 0;}#sk-container-id-1 div.sk-toggleable {background-color: white;}#sk-container-id-1 label.sk-toggleable__label {cursor: pointer;display: block;width: 100%;margin-bottom: 0;padding: 0.3em;box-sizing: border-box;text-align: center;}#sk-container-id-1 label.sk-toggleable__label-arrow:before {content: \"▸\";float: left;margin-right: 0.25em;color: #696969;}#sk-container-id-1 label.sk-toggleable__label-arrow:hover:before {color: black;}#sk-container-id-1 div.sk-estimator:hover label.sk-toggleable__label-arrow:before {color: black;}#sk-container-id-1 div.sk-toggleable__content {max-height: 0;max-width: 0;overflow: hidden;text-align: left;background-color: #f0f8ff;}#sk-container-id-1 div.sk-toggleable__content pre {margin: 0.2em;color: black;border-radius: 0.25em;background-color: #f0f8ff;}#sk-container-id-1 input.sk-toggleable__control:checked~div.sk-toggleable__content {max-height: 200px;max-width: 100%;overflow: auto;}#sk-container-id-1 input.sk-toggleable__control:checked~label.sk-toggleable__label-arrow:before {content: \"▾\";}#sk-container-id-1 div.sk-estimator input.sk-toggleable__control:checked~label.sk-toggleable__label {background-color: #d4ebff;}#sk-container-id-1 div.sk-label input.sk-toggleable__control:checked~label.sk-toggleable__label {background-color: #d4ebff;}#sk-container-id-1 input.sk-hidden--visually {border: 0;clip: rect(1px 1px 1px 1px);clip: rect(1px, 1px, 1px, 1px);height: 1px;margin: -1px;overflow: hidden;padding: 0;position: absolute;width: 1px;}#sk-container-id-1 div.sk-estimator {font-family: monospace;background-color: #f0f8ff;border: 1px dotted black;border-radius: 0.25em;box-sizing: border-box;margin-bottom: 0.5em;}#sk-container-id-1 div.sk-estimator:hover {background-color: #d4ebff;}#sk-container-id-1 div.sk-parallel-item::after {content: \"\";width: 100%;border-bottom: 1px solid gray;flex-grow: 1;}#sk-container-id-1 div.sk-label:hover label.sk-toggleable__label {background-color: #d4ebff;}#sk-container-id-1 div.sk-serial::before {content: \"\";position: absolute;border-left: 1px solid gray;box-sizing: border-box;top: 0;bottom: 0;left: 50%;z-index: 0;}#sk-container-id-1 div.sk-serial {display: flex;flex-direction: column;align-items: center;background-color: white;padding-right: 0.2em;padding-left: 0.2em;position: relative;}#sk-container-id-1 div.sk-item {position: relative;z-index: 1;}#sk-container-id-1 div.sk-parallel {display: flex;align-items: stretch;justify-content: center;background-color: white;position: relative;}#sk-container-id-1 div.sk-item::before, #sk-container-id-1 div.sk-parallel-item::before {content: \"\";position: absolute;border-left: 1px solid gray;box-sizing: border-box;top: 0;bottom: 0;left: 50%;z-index: -1;}#sk-container-id-1 div.sk-parallel-item {display: flex;flex-direction: column;z-index: 1;position: relative;background-color: white;}#sk-container-id-1 div.sk-parallel-item:first-child::after {align-self: flex-end;width: 50%;}#sk-container-id-1 div.sk-parallel-item:last-child::after {align-self: flex-start;width: 50%;}#sk-container-id-1 div.sk-parallel-item:only-child::after {width: 0;}#sk-container-id-1 div.sk-dashed-wrapped {border: 1px dashed gray;margin: 0 0.4em 0.5em 0.4em;box-sizing: border-box;padding-bottom: 0.4em;background-color: white;}#sk-container-id-1 div.sk-label label {font-family: monospace;font-weight: bold;display: inline-block;line-height: 1.2em;}#sk-container-id-1 div.sk-label-container {text-align: center;}#sk-container-id-1 div.sk-container {/* jupyter's `normalize.less` sets `[hidden] { display: none; }` but bootstrap.min.css set `[hidden] { display: none !important; }` so we also need the `!important` here to be able to override the default hidden behavior on the sphinx rendered scikit-learn.org. See: https://github.com/scikit-learn/scikit-learn/issues/21755 */display: inline-block !important;position: relative;}#sk-container-id-1 div.sk-text-repr-fallback {display: none;}</style><div id=\"sk-container-id-1\" class=\"sk-top-container\"><div class=\"sk-text-repr-fallback\"><pre>DecisionTreeRegressor(random_state=42)</pre><b>In a Jupyter environment, please rerun this cell to show the HTML representation or trust the notebook. <br />On GitHub, the HTML representation is unable to render, please try loading this page with nbviewer.org.</b></div><div class=\"sk-container\" hidden><div class=\"sk-item\"><div class=\"sk-estimator sk-toggleable\"><input class=\"sk-toggleable__control sk-hidden--visually\" id=\"sk-estimator-id-1\" type=\"checkbox\" checked><label for=\"sk-estimator-id-1\" class=\"sk-toggleable__label sk-toggleable__label-arrow\">DecisionTreeRegressor</label><div class=\"sk-toggleable__content\"><pre>DecisionTreeRegressor(random_state=42)</pre></div></div></div></div></div>"
      ],
      "text/plain": [
       "DecisionTreeRegressor(random_state=42)"
      ]
     },
     "execution_count": 10,
     "metadata": {},
     "output_type": "execute_result"
    }
   ],
   "source": [
    "dtr = DecisionTreeRegressor(random_state = 42)\n",
    "dtr.fit(X_train, Y_train)"
   ]
  },
  {
   "cell_type": "markdown",
   "id": "2110d448",
   "metadata": {
    "papermill": {
     "duration": 0.005978,
     "end_time": "2024-06-02T15:36:56.940197",
     "exception": false,
     "start_time": "2024-06-02T15:36:56.934219",
     "status": "completed"
    },
    "tags": []
   },
   "source": [
    "# **Predict and Evaluate**"
   ]
  },
  {
   "cell_type": "code",
   "execution_count": 11,
   "id": "af150653",
   "metadata": {
    "execution": {
     "iopub.execute_input": "2024-06-02T15:36:56.955072Z",
     "iopub.status.busy": "2024-06-02T15:36:56.954684Z",
     "iopub.status.idle": "2024-06-02T15:36:57.047522Z",
     "shell.execute_reply": "2024-06-02T15:36:57.046082Z"
    },
    "papermill": {
     "duration": 0.103097,
     "end_time": "2024-06-02T15:36:57.050180",
     "exception": false,
     "start_time": "2024-06-02T15:36:56.947083",
     "status": "completed"
    },
    "tags": []
   },
   "outputs": [
    {
     "name": "stdout",
     "output_type": "stream",
     "text": [
      "Mean Squared Error: 0.011106666666666667\n"
     ]
    }
   ],
   "source": [
    "Y_pred = dtr.predict(X_test)\n",
    "mse = mean_squared_error(Y_test, Y_pred)\n",
    "print(f'Mean Squared Error: {mse}')\n"
   ]
  },
  {
   "cell_type": "markdown",
   "id": "8032ad21",
   "metadata": {
    "papermill": {
     "duration": 0.006203,
     "end_time": "2024-06-02T15:36:57.063134",
     "exception": false,
     "start_time": "2024-06-02T15:36:57.056931",
     "status": "completed"
    },
    "tags": []
   },
   "source": [
    "# **Visualization**"
   ]
  },
  {
   "cell_type": "markdown",
   "id": "b5dc64ea",
   "metadata": {
    "papermill": {
     "duration": 0.00641,
     "end_time": "2024-06-02T15:36:57.075892",
     "exception": false,
     "start_time": "2024-06-02T15:36:57.069482",
     "status": "completed"
    },
    "tags": []
   },
   "source": [
    "**Scatter plot of actual vs predicted values**"
   ]
  },
  {
   "cell_type": "code",
   "execution_count": 12,
   "id": "be8e7624",
   "metadata": {
    "execution": {
     "iopub.execute_input": "2024-06-02T15:36:57.090950Z",
     "iopub.status.busy": "2024-06-02T15:36:57.090561Z",
     "iopub.status.idle": "2024-06-02T15:36:58.584540Z",
     "shell.execute_reply": "2024-06-02T15:36:58.583341Z"
    },
    "papermill": {
     "duration": 1.504235,
     "end_time": "2024-06-02T15:36:58.587060",
     "exception": false,
     "start_time": "2024-06-02T15:36:57.082825",
     "status": "completed"
    },
    "tags": []
   },
   "outputs": [
    {
     "data": {
      "text/plain": [
       "<function matplotlib.pyplot.show(close=None, block=None)>"
      ]
     },
     "execution_count": 12,
     "metadata": {},
     "output_type": "execute_result"
    },
    {
     "data": {
      "image/png": "[encoded data removed]",
      "text/plain": [
       "<Figure size 1000x600 with 1 Axes>"
      ]
     },
     "metadata": {},
     "output_type": "display_data"
    }
   ],
   "source": [
    "plt.figure(figsize=(10, 6))\n",
    "sns.scatterplot(x=Y_test, y=Y_pred)\n",
    "plt.plot([Y_test.min(), Y_test.max()], [Y_test.min(), Y_test.max()], lw=2)\n",
    "plt.xlabel('Actual Values')\n",
    "plt.ylabel('Predicted Values')\n",
    "plt.title('Actual vs Predicted Values')\n",
    "plt.show"
   ]
  },
  {
   "cell_type": "markdown",
   "id": "f7966050",
   "metadata": {
    "papermill": {
     "duration": 0.006815,
     "end_time": "2024-06-02T15:36:58.601035",
     "exception": false,
     "start_time": "2024-06-02T15:36:58.594220",
     "status": "completed"
    },
    "tags": []
   },
   "source": [
    "**Feature importance barplot**"
   ]
  },
  {
   "cell_type": "code",
   "execution_count": 13,
   "id": "aca69146",
   "metadata": {
    "execution": {
     "iopub.execute_input": "2024-06-02T15:36:58.617185Z",
     "iopub.status.busy": "2024-06-02T15:36:58.616800Z",
     "iopub.status.idle": "2024-06-02T15:36:58.622175Z",
     "shell.execute_reply": "2024-06-02T15:36:58.620814Z"
    },
    "papermill": {
     "duration": 0.016223,
     "end_time": "2024-06-02T15:36:58.624395",
     "exception": false,
     "start_time": "2024-06-02T15:36:58.608172",
     "status": "completed"
    },
    "tags": []
   },
   "outputs": [],
   "source": [
    "feature_importances = dtr.feature_importances_\n",
    "features = X.columns"
   ]
  },
  {
   "cell_type": "code",
   "execution_count": 14,
   "id": "f89adc82",
   "metadata": {
    "execution": {
     "iopub.execute_input": "2024-06-02T15:36:58.640288Z",
     "iopub.status.busy": "2024-06-02T15:36:58.639932Z",
     "iopub.status.idle": "2024-06-02T15:36:58.960215Z",
     "shell.execute_reply": "2024-06-02T15:36:58.958839Z"
    },
    "papermill": {
     "duration": 0.331435,
     "end_time": "2024-06-02T15:36:58.962946",
     "exception": false,
     "start_time": "2024-06-02T15:36:58.631511",
     "status": "completed"
    },
    "tags": []
   },
   "outputs": [
    {
     "data": {
      "image/png": "[encoded data removed]",
      "text/plain": [
       "<Figure size 1200x800 with 1 Axes>"
      ]
     },
     "metadata": {},
     "output_type": "display_data"
    }
   ],
   "source": [
    "plt.figure(figsize=(12,8))\n",
    "sns.barplot(x=feature_importances, y=features)\n",
    "plt.xlabel('Feature Importance')\n",
    "plt.ylabel('Feature')\n",
    "plt.title('Feature Importances From DecisionTreeRegressor')\n",
    "plt.show()"
   ]
  },
  {
   "cell_type": "code",
   "execution_count": null,
   "id": "349bda07",
   "metadata": {
    "papermill": {
     "duration": 0.007634,
     "end_time": "2024-06-02T15:36:58.978666",
     "exception": false,
     "start_time": "2024-06-02T15:36:58.971032",
     "status": "completed"
    },
    "tags": []
   },
   "outputs": [],
   "source": []
  }
 ],
 "metadata": {
  "kaggle": {
   "accelerator": "none",
   "dataSources": [
    {
     "datasetId": 3714047,
     "sourceId": 6435821,
     "sourceType": "datasetVersion"
    }
   ],
   "dockerImageVersionId": 30715,
   "isGpuEnabled": false,
   "isInternetEnabled": true,
   "language": "python",
   "sourceType": "notebook"
  },
  "kernelspec": {
   "display_name": "Python 3",
   "language": "python",
   "name": "python3"
  },
  "language_info": {
   "codemirror_mode": {
    "name": "ipython",
    "version": 3
   },
   "file_extension": ".py",
   "mimetype": "text/x-python",
   "name": "python",
   "nbconvert_exporter": "python",
   "pygments_lexer": "ipython3",
   "version": "3.10.13"
  },
  "papermill": {
   "default_parameters": {},
   "duration": 60.903529,
   "end_time": "2024-06-02T15:36:59.608698",
   "environment_variables": {},
   "exception": null,
   "input_path": "__notebook__.ipynb",
   "output_path": "__notebook__.ipynb",
   "parameters": {},
   "start_time": "2024-06-02T15:35:58.705169",
   "version": "2.5.0"
  }
 },
 "nbformat": 4,
 "nbformat_minor": 5
}
